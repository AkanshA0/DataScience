{
  "nbformat": 4,
  "nbformat_minor": 0,
  "metadata": {
    "colab": {
      "name": "CryptoCurrencyPricePred.ipynb",
      "provenance": [],
      "collapsed_sections": []
    },
    "kernelspec": {
      "name": "python3",
      "display_name": "Python 3"
    },
    "language_info": {
      "name": "python"
    }
  },
  "cells": [
    {
      "cell_type": "code",
      "metadata": {
        "id": "vmOtUgVpxhOm"
      },
      "source": [
        "from tensorflow.keras import datasets,layers,models\n",
        "import matplotlib.pyplot as plt\n",
        "import numpy as np\n",
        "import pandas as pd\n",
        "from sklearn.preprocessing import MinMaxScaler"
      ],
      "execution_count": null,
      "outputs": []
    },
    {
      "cell_type": "code",
      "metadata": {
        "colab": {
          "resources": {
            "http://localhost:8080/nbextensions/google.colab/files.js": {
              "data": "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",
              "ok": true,
              "headers": [
                [
                  "content-type",
                  "application/javascript"
                ]
              ],
              "status": 200,
              "status_text": ""
            }
          },
          "base_uri": "https://localhost:8080/",
          "height": 73
        },
        "id": "MezHD--b1KtO",
        "outputId": "f6874c42-a96e-422c-b85f-bf6f8ae708aa"
      },
      "source": [
        "import io\n",
        "from google.colab import files\n",
        "uploaded = files.upload()\n",
        "df2 = pd.read_csv(io.BytesIO(uploaded['coin_Bitcoin.csv']))"
      ],
      "execution_count": null,
      "outputs": [
        {
          "output_type": "display_data",
          "data": {
            "text/html": [
              "\n",
              "     <input type=\"file\" id=\"files-50a3a0b1-027d-4b05-bbb6-9c7c9e492400\" name=\"files[]\" multiple disabled\n",
              "        style=\"border:none\" />\n",
              "     <output id=\"result-50a3a0b1-027d-4b05-bbb6-9c7c9e492400\">\n",
              "      Upload widget is only available when the cell has been executed in the\n",
              "      current browser session. Please rerun this cell to enable.\n",
              "      </output>\n",
              "      <script src=\"/nbextensions/google.colab/files.js\"></script> "
            ],
            "text/plain": [
              "<IPython.core.display.HTML object>"
            ]
          },
          "metadata": {
            "tags": []
          }
        },
        {
          "output_type": "stream",
          "text": [
            "Saving coin_Bitcoin.csv to coin_Bitcoin (4).csv\n"
          ],
          "name": "stdout"
        }
      ]
    },
    {
      "cell_type": "code",
      "metadata": {
        "colab": {
          "base_uri": "https://localhost:8080/",
          "height": 254
        },
        "id": "albuS5Jnmq0S",
        "outputId": "150465cc-80a3-4967-beaa-25cc0f445c82"
      },
      "source": [
        "df2 = df2.sort_values('Date')\n",
        "df2.head(7)"
      ],
      "execution_count": null,
      "outputs": [
        {
          "output_type": "execute_result",
          "data": {
            "text/html": [
              "<div>\n",
              "<style scoped>\n",
              "    .dataframe tbody tr th:only-of-type {\n",
              "        vertical-align: middle;\n",
              "    }\n",
              "\n",
              "    .dataframe tbody tr th {\n",
              "        vertical-align: top;\n",
              "    }\n",
              "\n",
              "    .dataframe thead th {\n",
              "        text-align: right;\n",
              "    }\n",
              "</style>\n",
              "<table border=\"1\" class=\"dataframe\">\n",
              "  <thead>\n",
              "    <tr style=\"text-align: right;\">\n",
              "      <th></th>\n",
              "      <th>SNo</th>\n",
              "      <th>Name</th>\n",
              "      <th>Symbol</th>\n",
              "      <th>Date</th>\n",
              "      <th>High</th>\n",
              "      <th>Low</th>\n",
              "      <th>Open</th>\n",
              "      <th>Close</th>\n",
              "      <th>Volume</th>\n",
              "      <th>Marketcap</th>\n",
              "    </tr>\n",
              "  </thead>\n",
              "  <tbody>\n",
              "    <tr>\n",
              "      <th>0</th>\n",
              "      <td>1</td>\n",
              "      <td>Bitcoin</td>\n",
              "      <td>BTC</td>\n",
              "      <td>2013-04-29 23:59:59</td>\n",
              "      <td>147.488007</td>\n",
              "      <td>134.000000</td>\n",
              "      <td>134.444000</td>\n",
              "      <td>144.539993</td>\n",
              "      <td>0.0</td>\n",
              "      <td>1.603769e+09</td>\n",
              "    </tr>\n",
              "    <tr>\n",
              "      <th>1</th>\n",
              "      <td>2</td>\n",
              "      <td>Bitcoin</td>\n",
              "      <td>BTC</td>\n",
              "      <td>2013-04-30 23:59:59</td>\n",
              "      <td>146.929993</td>\n",
              "      <td>134.050003</td>\n",
              "      <td>144.000000</td>\n",
              "      <td>139.000000</td>\n",
              "      <td>0.0</td>\n",
              "      <td>1.542813e+09</td>\n",
              "    </tr>\n",
              "    <tr>\n",
              "      <th>2</th>\n",
              "      <td>3</td>\n",
              "      <td>Bitcoin</td>\n",
              "      <td>BTC</td>\n",
              "      <td>2013-05-01 23:59:59</td>\n",
              "      <td>139.889999</td>\n",
              "      <td>107.720001</td>\n",
              "      <td>139.000000</td>\n",
              "      <td>116.989998</td>\n",
              "      <td>0.0</td>\n",
              "      <td>1.298955e+09</td>\n",
              "    </tr>\n",
              "    <tr>\n",
              "      <th>3</th>\n",
              "      <td>4</td>\n",
              "      <td>Bitcoin</td>\n",
              "      <td>BTC</td>\n",
              "      <td>2013-05-02 23:59:59</td>\n",
              "      <td>125.599998</td>\n",
              "      <td>92.281898</td>\n",
              "      <td>116.379997</td>\n",
              "      <td>105.209999</td>\n",
              "      <td>0.0</td>\n",
              "      <td>1.168517e+09</td>\n",
              "    </tr>\n",
              "    <tr>\n",
              "      <th>4</th>\n",
              "      <td>5</td>\n",
              "      <td>Bitcoin</td>\n",
              "      <td>BTC</td>\n",
              "      <td>2013-05-03 23:59:59</td>\n",
              "      <td>108.127998</td>\n",
              "      <td>79.099998</td>\n",
              "      <td>106.250000</td>\n",
              "      <td>97.750000</td>\n",
              "      <td>0.0</td>\n",
              "      <td>1.085995e+09</td>\n",
              "    </tr>\n",
              "    <tr>\n",
              "      <th>5</th>\n",
              "      <td>6</td>\n",
              "      <td>Bitcoin</td>\n",
              "      <td>BTC</td>\n",
              "      <td>2013-05-04 23:59:59</td>\n",
              "      <td>115.000000</td>\n",
              "      <td>92.500000</td>\n",
              "      <td>98.099998</td>\n",
              "      <td>112.500000</td>\n",
              "      <td>0.0</td>\n",
              "      <td>1.250317e+09</td>\n",
              "    </tr>\n",
              "    <tr>\n",
              "      <th>6</th>\n",
              "      <td>7</td>\n",
              "      <td>Bitcoin</td>\n",
              "      <td>BTC</td>\n",
              "      <td>2013-05-05 23:59:59</td>\n",
              "      <td>118.800003</td>\n",
              "      <td>107.142998</td>\n",
              "      <td>112.900002</td>\n",
              "      <td>115.910004</td>\n",
              "      <td>0.0</td>\n",
              "      <td>1.288693e+09</td>\n",
              "    </tr>\n",
              "  </tbody>\n",
              "</table>\n",
              "</div>"
            ],
            "text/plain": [
              "   SNo     Name Symbol  ...       Close  Volume     Marketcap\n",
              "0    1  Bitcoin    BTC  ...  144.539993     0.0  1.603769e+09\n",
              "1    2  Bitcoin    BTC  ...  139.000000     0.0  1.542813e+09\n",
              "2    3  Bitcoin    BTC  ...  116.989998     0.0  1.298955e+09\n",
              "3    4  Bitcoin    BTC  ...  105.209999     0.0  1.168517e+09\n",
              "4    5  Bitcoin    BTC  ...   97.750000     0.0  1.085995e+09\n",
              "5    6  Bitcoin    BTC  ...  112.500000     0.0  1.250317e+09\n",
              "6    7  Bitcoin    BTC  ...  115.910004     0.0  1.288693e+09\n",
              "\n",
              "[7 rows x 10 columns]"
            ]
          },
          "metadata": {
            "tags": []
          },
          "execution_count": 149
        }
      ]
    },
    {
      "cell_type": "code",
      "metadata": {
        "id": "J1HHVP-F5eRd"
      },
      "source": [
        "scaler = MinMaxScaler(feature_range=(0,1))\n",
        "price = df2.Close.values.reshape(-1, 1)\n",
        "price = price.astype('float32')\n",
        "scaled_price = scaler.fit_transform(price)"
      ],
      "execution_count": null,
      "outputs": []
    },
    {
      "cell_type": "code",
      "metadata": {
        "colab": {
          "base_uri": "https://localhost:8080/"
        },
        "id": "-4Du3tK1_WYl",
        "outputId": "816dd510-47bc-437b-8a59-50ffa924dcdb"
      },
      "source": [
        "print(len(scaled_price))\n",
        "print(scaled_price.shape[0])"
      ],
      "execution_count": null,
      "outputs": [
        {
          "output_type": "stream",
          "text": [
            "2862\n",
            "2862\n"
          ],
          "name": "stdout"
        }
      ]
    },
    {
      "cell_type": "code",
      "metadata": {
        "colab": {
          "base_uri": "https://localhost:8080/"
        },
        "id": "kOrRZmki6DdT",
        "outputId": "8049f4b0-2990-4b2f-ccd3-527eecd78cab"
      },
      "source": [
        "len_train=int(len(scaled_price)*0.8)\n",
        "len_test=len(scaled_price)-len_train\n",
        "train,test=scaled_price[0:len_train,:],scaled_price[len_train:len(scaled_price),:]\n",
        "print(len(train),len(test))\n",
        "print(len_train,len_test)"
      ],
      "execution_count": null,
      "outputs": [
        {
          "output_type": "stream",
          "text": [
            "2289 573\n",
            "2289 573\n"
          ],
          "name": "stdout"
        }
      ]
    },
    {
      "cell_type": "code",
      "metadata": {
        "id": "GfCUA4bLEdjC"
      },
      "source": [
        "def getsequences(data, sequence_len):\n",
        "    d = []\n",
        "    for index in range(len(data) - sequence_len):\n",
        "        d.append(data[index: index + sequence_len])\n",
        "\n",
        "    return np.array(d)\n",
        "\n",
        "def getprocessedvalues(currdata, sequence_len):\n",
        "    data = getsequences(currdata, sequence_len)\n",
        "  \n",
        "    xtrain = data[:len_train, :-1, :]\n",
        "    ytrain = data[:len_train, -1, :]\n",
        "\n",
        "    xtest = data[len_train:, :-1, :]\n",
        "    ytest = data[len_train:, -1, :]\n",
        "\n",
        "    return xtrain, ytrain, xtest, ytest\n",
        "\n",
        "xtrain, ytrain, xtest, ytest =getprocessedvalues(scaled_price, 20)"
      ],
      "execution_count": null,
      "outputs": []
    },
    {
      "cell_type": "code",
      "metadata": {
        "colab": {
          "base_uri": "https://localhost:8080/"
        },
        "id": "UdFPtKTLEiKn",
        "outputId": "6b82339f-2613-43da-c139-053f39eef06b"
      },
      "source": [
        "print(scaled_price[:40])\n",
        "print(\"xtrain\")\n",
        "print(xtrain[:1])\n",
        "print(\"ytrain\")\n",
        "print(ytrain[:1])"
      ],
      "execution_count": null,
      "outputs": [
        {
          "output_type": "stream",
          "text": [
            "[[0.00132429]\n",
            " [0.0012279 ]\n",
            " [0.00084492]\n",
            " [0.00063995]\n",
            " [0.00051015]\n",
            " [0.0007668 ]\n",
            " [0.00082613]\n",
            " [0.00076332]\n",
            " [0.0007494 ]\n",
            " [0.00078535]\n",
            " [0.00076976]\n",
            " [0.00084858]\n",
            " [0.00081453]\n",
            " [0.0008103 ]\n",
            " [0.00086215]\n",
            " [0.0007494 ]\n",
            " [0.00079673]\n",
            " [0.00087572]\n",
            " [0.00094976]\n",
            " [0.00095816]\n",
            " [0.00093192]\n",
            " [0.0009321 ]\n",
            " [0.00094741]\n",
            " [0.00096496]\n",
            " [0.00101388]\n",
            " [0.00112698]\n",
            " [0.00110575]\n",
            " [0.00113185]\n",
            " [0.00106686]\n",
            " [0.0010539 ]\n",
            " [0.00111132]\n",
            " [0.0010504 ]\n",
            " [0.0010539 ]\n",
            " [0.00105912]\n",
            " [0.00093718]\n",
            " [0.00093596]\n",
            " [0.000922  ]\n",
            " [0.00092601]\n",
            " [0.0008625 ]\n",
            " [0.0007494 ]]\n",
            "xtrain\n",
            "[[[0.00132429]\n",
            "  [0.0012279 ]\n",
            "  [0.00084492]\n",
            "  [0.00063995]\n",
            "  [0.00051015]\n",
            "  [0.0007668 ]\n",
            "  [0.00082613]\n",
            "  [0.00076332]\n",
            "  [0.0007494 ]\n",
            "  [0.00078535]\n",
            "  [0.00076976]\n",
            "  [0.00084858]\n",
            "  [0.00081453]\n",
            "  [0.0008103 ]\n",
            "  [0.00086215]\n",
            "  [0.0007494 ]\n",
            "  [0.00079673]\n",
            "  [0.00087572]\n",
            "  [0.00094976]]]\n",
            "ytrain\n",
            "[[0.00095816]]\n"
          ],
          "name": "stdout"
        }
      ]
    },
    {
      "cell_type": "code",
      "metadata": {
        "id": "zfSr8z9NFYqr"
      },
      "source": [
        "from keras.models import Sequential\n",
        "from keras.layers import LSTM, Dense, Activation  \n",
        "\n",
        "model = models.Sequential()\n",
        "model.add(LSTM(30, input_shape=(20,1)))  #input_shape=(sequence_length,num of features)\n",
        "model.add(Dense(1,activation='linear'))\n",
        "model.compile(optimizer='adam',loss='mean_squared_error',metrics=['accuracy'])"
      ],
      "execution_count": null,
      "outputs": []
    },
    {
      "cell_type": "code",
      "metadata": {
        "colab": {
          "base_uri": "https://localhost:8080/"
        },
        "id": "wZPtm5LtI4xJ",
        "outputId": "45aae43f-fb4a-4a6a-e136-eda98c3aab07"
      },
      "source": [
        "hist=model.fit(xtrain,ytrain,epochs=200,batch_size=30, validation_data=(xtest, ytest))"
      ],
      "execution_count": null,
      "outputs": [
        {
          "output_type": "stream",
          "text": [
            "Epoch 1/200\n",
            "WARNING:tensorflow:Model was constructed with shape (None, 20, 1) for input KerasTensor(type_spec=TensorSpec(shape=(None, 20, 1), dtype=tf.float32, name='lstm_16_input'), name='lstm_16_input', description=\"created by layer 'lstm_16_input'\"), but it was called on an input with incompatible shape (None, 19, 1).\n",
            "WARNING:tensorflow:Model was constructed with shape (None, 20, 1) for input KerasTensor(type_spec=TensorSpec(shape=(None, 20, 1), dtype=tf.float32, name='lstm_16_input'), name='lstm_16_input', description=\"created by layer 'lstm_16_input'\"), but it was called on an input with incompatible shape (None, 19, 1).\n",
            "72/77 [===========================>..] - ETA: 0s - loss: 0.0046 - accuracy: 8.3768e-05WARNING:tensorflow:Model was constructed with shape (None, 20, 1) for input KerasTensor(type_spec=TensorSpec(shape=(None, 20, 1), dtype=tf.float32, name='lstm_16_input'), name='lstm_16_input', description=\"created by layer 'lstm_16_input'\"), but it was called on an input with incompatible shape (None, 19, 1).\n",
            "77/77 [==============================] - 3s 14ms/step - loss: 0.0043 - accuracy: 1.1148e-04 - val_loss: 0.0011 - val_accuracy: 0.0000e+00\n",
            "Epoch 2/200\n",
            "77/77 [==============================] - 1s 8ms/step - loss: 1.2279e-04 - accuracy: 1.6825e-05 - val_loss: 0.0015 - val_accuracy: 0.0000e+00\n",
            "Epoch 3/200\n",
            "77/77 [==============================] - 1s 9ms/step - loss: 1.1983e-04 - accuracy: 0.0011 - val_loss: 0.0011 - val_accuracy: 0.0000e+00\n",
            "Epoch 4/200\n",
            "77/77 [==============================] - 1s 8ms/step - loss: 9.3879e-05 - accuracy: 4.4841e-04 - val_loss: 0.0012 - val_accuracy: 0.0000e+00\n",
            "Epoch 5/200\n",
            "77/77 [==============================] - 1s 8ms/step - loss: 8.8815e-05 - accuracy: 9.4994e-04 - val_loss: 0.0010 - val_accuracy: 0.0000e+00\n",
            "Epoch 6/200\n",
            "77/77 [==============================] - 1s 8ms/step - loss: 1.0201e-04 - accuracy: 7.8526e-04 - val_loss: 0.0014 - val_accuracy: 0.0000e+00\n",
            "Epoch 7/200\n",
            "77/77 [==============================] - 1s 8ms/step - loss: 8.2011e-05 - accuracy: 4.4841e-04 - val_loss: 0.0012 - val_accuracy: 0.0000e+00\n",
            "Epoch 8/200\n",
            "77/77 [==============================] - 1s 8ms/step - loss: 7.3492e-05 - accuracy: 3.4152e-05 - val_loss: 0.0010 - val_accuracy: 0.0000e+00\n",
            "Epoch 9/200\n",
            "77/77 [==============================] - 1s 8ms/step - loss: 6.8775e-05 - accuracy: 4.4841e-04 - val_loss: 0.0011 - val_accuracy: 0.0000e+00\n",
            "Epoch 10/200\n",
            "77/77 [==============================] - 1s 8ms/step - loss: 6.8312e-05 - accuracy: 7.8526e-04 - val_loss: 8.1440e-04 - val_accuracy: 0.0000e+00\n",
            "Epoch 11/200\n",
            "77/77 [==============================] - 1s 8ms/step - loss: 5.7799e-05 - accuracy: 1.8868e-04 - val_loss: 0.0015 - val_accuracy: 0.0000e+00\n",
            "Epoch 12/200\n",
            "77/77 [==============================] - 1s 8ms/step - loss: 5.5163e-05 - accuracy: 9.7578e-05 - val_loss: 9.0685e-04 - val_accuracy: 0.0000e+00\n",
            "Epoch 13/200\n",
            "77/77 [==============================] - 1s 8ms/step - loss: 5.5833e-05 - accuracy: 2.4274e-04 - val_loss: 0.0012 - val_accuracy: 0.0000e+00\n",
            "Epoch 14/200\n",
            "77/77 [==============================] - 1s 8ms/step - loss: 6.0329e-05 - accuracy: 4.6106e-05 - val_loss: 0.0010 - val_accuracy: 0.0000e+00\n",
            "Epoch 15/200\n",
            "77/77 [==============================] - 1s 8ms/step - loss: 5.3820e-05 - accuracy: 0.0015 - val_loss: 0.0013 - val_accuracy: 0.0000e+00\n",
            "Epoch 16/200\n",
            "77/77 [==============================] - 1s 8ms/step - loss: 4.7943e-05 - accuracy: 1.1148e-04 - val_loss: 8.4085e-04 - val_accuracy: 0.0000e+00\n",
            "Epoch 17/200\n",
            "77/77 [==============================] - 1s 8ms/step - loss: 4.9455e-05 - accuracy: 5.2211e-05 - val_loss: 9.9515e-04 - val_accuracy: 0.0000e+00\n",
            "Epoch 18/200\n",
            "77/77 [==============================] - 1s 8ms/step - loss: 4.3751e-05 - accuracy: 9.4994e-04 - val_loss: 7.8446e-04 - val_accuracy: 0.0000e+00\n",
            "Epoch 19/200\n",
            "77/77 [==============================] - 1s 8ms/step - loss: 4.1581e-05 - accuracy: 0.0017 - val_loss: 0.0010 - val_accuracy: 0.0000e+00\n",
            "Epoch 20/200\n",
            "77/77 [==============================] - 1s 8ms/step - loss: 4.4921e-05 - accuracy: 9.0246e-04 - val_loss: 8.3637e-04 - val_accuracy: 0.0000e+00\n",
            "Epoch 21/200\n",
            "77/77 [==============================] - 1s 8ms/step - loss: 3.9310e-05 - accuracy: 4.9776e-04 - val_loss: 9.4550e-04 - val_accuracy: 0.0000e+00\n",
            "Epoch 22/200\n",
            "77/77 [==============================] - 1s 9ms/step - loss: 4.2679e-05 - accuracy: 7.8526e-04 - val_loss: 9.5971e-04 - val_accuracy: 0.0000e+00\n",
            "Epoch 23/200\n",
            "77/77 [==============================] - 1s 8ms/step - loss: 4.7655e-05 - accuracy: 2.6239e-04 - val_loss: 0.0011 - val_accuracy: 0.0000e+00\n",
            "Epoch 24/200\n",
            "77/77 [==============================] - 1s 8ms/step - loss: 4.0013e-05 - accuracy: 2.2523e-05 - val_loss: 9.3192e-04 - val_accuracy: 0.0000e+00\n",
            "Epoch 25/200\n",
            "77/77 [==============================] - 1s 8ms/step - loss: 3.0718e-05 - accuracy: 2.2395e-04 - val_loss: 7.2920e-04 - val_accuracy: 0.0000e+00\n",
            "Epoch 26/200\n",
            "77/77 [==============================] - 1s 8ms/step - loss: 3.5958e-05 - accuracy: 9.4994e-04 - val_loss: 7.3561e-04 - val_accuracy: 0.0000e+00\n",
            "Epoch 27/200\n",
            "77/77 [==============================] - 1s 9ms/step - loss: 3.6262e-05 - accuracy: 8.5973e-04 - val_loss: 7.8893e-04 - val_accuracy: 0.0000e+00\n",
            "Epoch 28/200\n",
            "77/77 [==============================] - 1s 8ms/step - loss: 3.5328e-05 - accuracy: 9.4994e-04 - val_loss: 6.6787e-04 - val_accuracy: 0.0000e+00\n",
            "Epoch 29/200\n",
            "77/77 [==============================] - 1s 8ms/step - loss: 3.8561e-05 - accuracy: 6.4690e-05 - val_loss: 8.0030e-04 - val_accuracy: 0.0000e+00\n",
            "Epoch 30/200\n",
            "77/77 [==============================] - 1s 8ms/step - loss: 5.7921e-05 - accuracy: 7.1068e-05 - val_loss: 6.3687e-04 - val_accuracy: 0.0000e+00\n",
            "Epoch 31/200\n",
            "77/77 [==============================] - 1s 8ms/step - loss: 3.8842e-05 - accuracy: 0.0021 - val_loss: 5.1474e-04 - val_accuracy: 0.0000e+00\n",
            "Epoch 32/200\n",
            "77/77 [==============================] - 1s 8ms/step - loss: 4.1136e-05 - accuracy: 3.3929e-04 - val_loss: 7.6014e-04 - val_accuracy: 0.0000e+00\n",
            "Epoch 33/200\n",
            "77/77 [==============================] - 1s 8ms/step - loss: 3.5633e-05 - accuracy: 0.0021 - val_loss: 5.9394e-04 - val_accuracy: 0.0000e+00\n",
            "Epoch 34/200\n",
            "77/77 [==============================] - 1s 8ms/step - loss: 3.4569e-05 - accuracy: 6.1779e-04 - val_loss: 7.1657e-04 - val_accuracy: 0.0000e+00\n",
            "Epoch 35/200\n",
            "77/77 [==============================] - 1s 8ms/step - loss: 3.6908e-05 - accuracy: 0.0015 - val_loss: 9.7019e-04 - val_accuracy: 0.0000e+00\n",
            "Epoch 36/200\n",
            "77/77 [==============================] - 1s 8ms/step - loss: 2.7884e-05 - accuracy: 3.4152e-05 - val_loss: 7.8761e-04 - val_accuracy: 0.0000e+00\n",
            "Epoch 37/200\n",
            "77/77 [==============================] - 1s 8ms/step - loss: 2.5636e-05 - accuracy: 7.2186e-04 - val_loss: 6.5203e-04 - val_accuracy: 0.0000e+00\n",
            "Epoch 38/200\n",
            "77/77 [==============================] - 1s 9ms/step - loss: 4.0536e-05 - accuracy: 4.8067e-04 - val_loss: 6.5150e-04 - val_accuracy: 0.0000e+00\n",
            "Epoch 39/200\n",
            "77/77 [==============================] - 1s 8ms/step - loss: 3.7873e-05 - accuracy: 7.1068e-05 - val_loss: 5.9526e-04 - val_accuracy: 0.0000e+00\n",
            "Epoch 40/200\n",
            "77/77 [==============================] - 1s 8ms/step - loss: 2.9782e-05 - accuracy: 5.2211e-05 - val_loss: 6.2663e-04 - val_accuracy: 0.0000e+00\n",
            "Epoch 41/200\n",
            "77/77 [==============================] - 1s 8ms/step - loss: 2.7737e-05 - accuracy: 3.5150e-04 - val_loss: 7.0438e-04 - val_accuracy: 0.0000e+00\n",
            "Epoch 42/200\n",
            "77/77 [==============================] - 1s 8ms/step - loss: 3.1790e-05 - accuracy: 3.0463e-04 - val_loss: 5.9943e-04 - val_accuracy: 0.0000e+00\n",
            "Epoch 43/200\n",
            "77/77 [==============================] - 1s 8ms/step - loss: 2.8844e-05 - accuracy: 5.7393e-04 - val_loss: 7.0873e-04 - val_accuracy: 0.0000e+00\n",
            "Epoch 44/200\n",
            "77/77 [==============================] - 1s 8ms/step - loss: 2.9018e-05 - accuracy: 4.6106e-05 - val_loss: 4.4273e-04 - val_accuracy: 0.0000e+00\n",
            "Epoch 45/200\n",
            "77/77 [==============================] - 1s 8ms/step - loss: 3.1711e-05 - accuracy: 0.0015 - val_loss: 7.1294e-04 - val_accuracy: 0.0000e+00\n",
            "Epoch 46/200\n",
            "77/77 [==============================] - 1s 9ms/step - loss: 3.1760e-05 - accuracy: 2.8298e-05 - val_loss: 6.9799e-04 - val_accuracy: 0.0000e+00\n",
            "Epoch 47/200\n",
            "77/77 [==============================] - 1s 8ms/step - loss: 3.6709e-05 - accuracy: 1.9723e-04 - val_loss: 5.5299e-04 - val_accuracy: 0.0000e+00\n",
            "Epoch 48/200\n",
            "77/77 [==============================] - 1s 8ms/step - loss: 3.7883e-05 - accuracy: 3.6407e-04 - val_loss: 9.7211e-04 - val_accuracy: 0.0000e+00\n",
            "Epoch 49/200\n",
            "77/77 [==============================] - 1s 9ms/step - loss: 2.5137e-05 - accuracy: 9.4994e-04 - val_loss: 5.8061e-04 - val_accuracy: 0.0000e+00\n",
            "Epoch 50/200\n",
            "77/77 [==============================] - 1s 8ms/step - loss: 2.6078e-05 - accuracy: 9.4994e-04 - val_loss: 5.5149e-04 - val_accuracy: 0.0000e+00\n",
            "Epoch 51/200\n",
            "77/77 [==============================] - 1s 9ms/step - loss: 2.3076e-05 - accuracy: 0.0017 - val_loss: 6.7984e-04 - val_accuracy: 0.0000e+00\n",
            "Epoch 52/200\n",
            "77/77 [==============================] - 1s 8ms/step - loss: 2.8712e-05 - accuracy: 7.7543e-05 - val_loss: 4.3761e-04 - val_accuracy: 0.0000e+00\n",
            "Epoch 53/200\n",
            "77/77 [==============================] - 1s 8ms/step - loss: 2.6024e-05 - accuracy: 9.7578e-05 - val_loss: 4.5151e-04 - val_accuracy: 0.0000e+00\n",
            "Epoch 54/200\n",
            "77/77 [==============================] - 1s 8ms/step - loss: 2.7603e-05 - accuracy: 4.6106e-05 - val_loss: 5.0804e-04 - val_accuracy: 0.0000e+00\n",
            "Epoch 55/200\n",
            "77/77 [==============================] - 1s 8ms/step - loss: 2.9250e-05 - accuracy: 2.5245e-04 - val_loss: 5.2007e-04 - val_accuracy: 0.0000e+00\n",
            "Epoch 56/200\n",
            "77/77 [==============================] - 1s 8ms/step - loss: 2.5650e-05 - accuracy: 9.4994e-04 - val_loss: 5.0467e-04 - val_accuracy: 0.0000e+00\n",
            "Epoch 57/200\n",
            "77/77 [==============================] - 1s 9ms/step - loss: 3.7266e-05 - accuracy: 9.0246e-04 - val_loss: 5.1806e-04 - val_accuracy: 0.0000e+00\n",
            "Epoch 58/200\n",
            "77/77 [==============================] - 1s 8ms/step - loss: 2.7748e-05 - accuracy: 8.2088e-04 - val_loss: 4.6996e-04 - val_accuracy: 0.0000e+00\n",
            "Epoch 59/200\n",
            "77/77 [==============================] - 1s 8ms/step - loss: 2.3740e-05 - accuracy: 6.4153e-04 - val_loss: 4.1073e-04 - val_accuracy: 0.0000e+00\n",
            "Epoch 60/200\n",
            "77/77 [==============================] - 1s 8ms/step - loss: 2.0551e-05 - accuracy: 1.5611e-04 - val_loss: 4.5259e-04 - val_accuracy: 0.0000e+00\n",
            "Epoch 61/200\n",
            "77/77 [==============================] - 1s 9ms/step - loss: 2.5639e-05 - accuracy: 5.5358e-04 - val_loss: 4.4277e-04 - val_accuracy: 0.0000e+00\n",
            "Epoch 62/200\n",
            "77/77 [==============================] - 1s 8ms/step - loss: 3.2912e-05 - accuracy: 4.4841e-04 - val_loss: 5.7013e-04 - val_accuracy: 0.0000e+00\n",
            "Epoch 63/200\n",
            "77/77 [==============================] - 1s 8ms/step - loss: 2.3581e-05 - accuracy: 4.6106e-05 - val_loss: 4.9944e-04 - val_accuracy: 0.0000e+00\n",
            "Epoch 64/200\n",
            "77/77 [==============================] - 1s 8ms/step - loss: 2.6958e-05 - accuracy: 4.0087e-05 - val_loss: 5.1409e-04 - val_accuracy: 0.0000e+00\n",
            "Epoch 65/200\n",
            "77/77 [==============================] - 1s 8ms/step - loss: 1.9876e-05 - accuracy: 5.9529e-04 - val_loss: 6.8439e-04 - val_accuracy: 0.0000e+00\n",
            "Epoch 66/200\n",
            "77/77 [==============================] - 1s 9ms/step - loss: 3.6260e-05 - accuracy: 1.3321e-04 - val_loss: 4.4369e-04 - val_accuracy: 0.0000e+00\n",
            "Epoch 67/200\n",
            "77/77 [==============================] - 1s 8ms/step - loss: 2.8662e-05 - accuracy: 0.0017 - val_loss: 4.5096e-04 - val_accuracy: 0.0000e+00\n",
            "Epoch 68/200\n",
            "77/77 [==============================] - 1s 9ms/step - loss: 1.8612e-05 - accuracy: 9.0246e-04 - val_loss: 4.1909e-04 - val_accuracy: 0.0000e+00\n",
            "Epoch 69/200\n",
            "77/77 [==============================] - 1s 8ms/step - loss: 2.8566e-05 - accuracy: 9.0795e-05 - val_loss: 3.6068e-04 - val_accuracy: 0.0000e+00\n",
            "Epoch 70/200\n",
            "77/77 [==============================] - 1s 8ms/step - loss: 2.3067e-05 - accuracy: 5.9529e-04 - val_loss: 5.0232e-04 - val_accuracy: 0.0000e+00\n",
            "Epoch 71/200\n",
            "77/77 [==============================] - 1s 8ms/step - loss: 2.9411e-05 - accuracy: 3.1587e-04 - val_loss: 4.9592e-04 - val_accuracy: 0.0000e+00\n",
            "Epoch 72/200\n",
            "77/77 [==============================] - 1s 9ms/step - loss: 2.3724e-05 - accuracy: 5.5358e-04 - val_loss: 3.1057e-04 - val_accuracy: 0.0000e+00\n",
            "Epoch 73/200\n",
            "77/77 [==============================] - 1s 9ms/step - loss: 2.6172e-05 - accuracy: 2.9367e-04 - val_loss: 4.1118e-04 - val_accuracy: 0.0000e+00\n",
            "Epoch 74/200\n",
            "77/77 [==============================] - 1s 9ms/step - loss: 2.0127e-05 - accuracy: 6.4690e-05 - val_loss: 3.0955e-04 - val_accuracy: 0.0000e+00\n",
            "Epoch 75/200\n",
            "77/77 [==============================] - 1s 8ms/step - loss: 2.6103e-05 - accuracy: 2.9367e-04 - val_loss: 3.4961e-04 - val_accuracy: 0.0000e+00\n",
            "Epoch 76/200\n",
            "77/77 [==============================] - 1s 8ms/step - loss: 1.9054e-05 - accuracy: 5.7393e-04 - val_loss: 3.9236e-04 - val_accuracy: 0.0000e+00\n",
            "Epoch 77/200\n",
            "77/77 [==============================] - 1s 8ms/step - loss: 2.1790e-05 - accuracy: 3.9038e-04 - val_loss: 2.7949e-04 - val_accuracy: 0.0000e+00\n",
            "Epoch 78/200\n",
            "77/77 [==============================] - 1s 8ms/step - loss: 2.2894e-05 - accuracy: 2.2523e-05 - val_loss: 3.6403e-04 - val_accuracy: 0.0000e+00\n",
            "Epoch 79/200\n",
            "77/77 [==============================] - 1s 8ms/step - loss: 3.5589e-05 - accuracy: 5.2211e-05 - val_loss: 4.7544e-04 - val_accuracy: 0.0000e+00\n",
            "Epoch 80/200\n",
            "77/77 [==============================] - 1s 8ms/step - loss: 2.5224e-05 - accuracy: 1.6825e-05 - val_loss: 5.0744e-04 - val_accuracy: 0.0000e+00\n",
            "Epoch 81/200\n",
            "77/77 [==============================] - 1s 8ms/step - loss: 2.3361e-05 - accuracy: 9.4994e-04 - val_loss: 3.5234e-04 - val_accuracy: 0.0000e+00\n",
            "Epoch 82/200\n",
            "77/77 [==============================] - 1s 8ms/step - loss: 1.6792e-05 - accuracy: 5.5358e-04 - val_loss: 4.6904e-04 - val_accuracy: 0.0000e+00\n",
            "Epoch 83/200\n",
            "77/77 [==============================] - 1s 8ms/step - loss: 2.4886e-05 - accuracy: 9.0246e-04 - val_loss: 3.5393e-04 - val_accuracy: 0.0000e+00\n",
            "Epoch 84/200\n",
            "77/77 [==============================] - 1s 8ms/step - loss: 2.2057e-05 - accuracy: 9.4994e-04 - val_loss: 3.9027e-04 - val_accuracy: 0.0000e+00\n",
            "Epoch 85/200\n",
            "77/77 [==============================] - 1s 8ms/step - loss: 2.5749e-05 - accuracy: 0.0011 - val_loss: 3.6078e-04 - val_accuracy: 0.0000e+00\n",
            "Epoch 86/200\n",
            "77/77 [==============================] - 1s 8ms/step - loss: 2.1133e-05 - accuracy: 1.1860e-04 - val_loss: 3.9929e-04 - val_accuracy: 0.0000e+00\n",
            "Epoch 87/200\n",
            "77/77 [==============================] - 1s 8ms/step - loss: 1.9789e-05 - accuracy: 9.0246e-04 - val_loss: 4.9948e-04 - val_accuracy: 0.0000e+00\n",
            "Epoch 88/200\n",
            "77/77 [==============================] - 1s 8ms/step - loss: 1.8085e-05 - accuracy: 2.5245e-04 - val_loss: 2.7735e-04 - val_accuracy: 0.0000e+00\n",
            "Epoch 89/200\n",
            "77/77 [==============================] - 1s 8ms/step - loss: 2.1416e-05 - accuracy: 8.4117e-05 - val_loss: 3.7192e-04 - val_accuracy: 0.0000e+00\n",
            "Epoch 90/200\n",
            "77/77 [==============================] - 1s 8ms/step - loss: 2.2691e-05 - accuracy: 2.4274e-04 - val_loss: 3.8926e-04 - val_accuracy: 0.0000e+00\n",
            "Epoch 91/200\n",
            "77/77 [==============================] - 1s 8ms/step - loss: 2.0618e-05 - accuracy: 1.2584e-04 - val_loss: 3.6349e-04 - val_accuracy: 0.0000e+00\n",
            "Epoch 92/200\n",
            "77/77 [==============================] - 1s 8ms/step - loss: 2.6641e-05 - accuracy: 5.8405e-05 - val_loss: 3.4208e-04 - val_accuracy: 0.0000e+00\n",
            "Epoch 93/200\n",
            "77/77 [==============================] - 1s 8ms/step - loss: 2.4097e-05 - accuracy: 6.6667e-04 - val_loss: 4.5923e-04 - val_accuracy: 0.0000e+00\n",
            "Epoch 94/200\n",
            "77/77 [==============================] - 1s 8ms/step - loss: 2.1964e-05 - accuracy: 6.4690e-05 - val_loss: 4.3712e-04 - val_accuracy: 0.0000e+00\n",
            "Epoch 95/200\n",
            "77/77 [==============================] - 1s 8ms/step - loss: 2.2475e-05 - accuracy: 5.5358e-04 - val_loss: 3.6303e-04 - val_accuracy: 0.0000e+00\n",
            "Epoch 96/200\n",
            "77/77 [==============================] - 1s 8ms/step - loss: 1.9772e-05 - accuracy: 0.0010 - val_loss: 4.4082e-04 - val_accuracy: 0.0000e+00\n",
            "Epoch 97/200\n",
            "77/77 [==============================] - 1s 9ms/step - loss: 1.6729e-05 - accuracy: 7.8526e-04 - val_loss: 3.9346e-04 - val_accuracy: 0.0000e+00\n",
            "Epoch 98/200\n",
            "77/77 [==============================] - 1s 9ms/step - loss: 2.0481e-05 - accuracy: 2.2523e-05 - val_loss: 4.8567e-04 - val_accuracy: 0.0000e+00\n",
            "Epoch 99/200\n",
            "77/77 [==============================] - 1s 8ms/step - loss: 2.4787e-05 - accuracy: 0.0015 - val_loss: 4.3408e-04 - val_accuracy: 0.0000e+00\n",
            "Epoch 100/200\n",
            "77/77 [==============================] - 1s 8ms/step - loss: 2.0511e-05 - accuracy: 2.8298e-05 - val_loss: 4.4120e-04 - val_accuracy: 0.0000e+00\n",
            "Epoch 101/200\n",
            "77/77 [==============================] - 1s 8ms/step - loss: 1.5969e-05 - accuracy: 1.5611e-04 - val_loss: 3.3181e-04 - val_accuracy: 0.0000e+00\n",
            "Epoch 102/200\n",
            "77/77 [==============================] - 1s 8ms/step - loss: 2.2610e-05 - accuracy: 7.1068e-05 - val_loss: 3.8465e-04 - val_accuracy: 0.0000e+00\n",
            "Epoch 103/200\n",
            "77/77 [==============================] - 1s 9ms/step - loss: 2.1401e-05 - accuracy: 1.6402e-04 - val_loss: 4.1744e-04 - val_accuracy: 0.0000e+00\n",
            "Epoch 104/200\n",
            "77/77 [==============================] - 1s 8ms/step - loss: 2.3019e-05 - accuracy: 2.2395e-04 - val_loss: 5.4798e-04 - val_accuracy: 0.0000e+00\n",
            "Epoch 105/200\n",
            "77/77 [==============================] - 1s 8ms/step - loss: 1.9420e-05 - accuracy: 8.4117e-05 - val_loss: 3.5017e-04 - val_accuracy: 0.0000e+00\n",
            "Epoch 106/200\n",
            "77/77 [==============================] - 1s 8ms/step - loss: 1.8128e-05 - accuracy: 0.0012 - val_loss: 3.0709e-04 - val_accuracy: 0.0000e+00\n",
            "Epoch 107/200\n",
            "77/77 [==============================] - 1s 8ms/step - loss: 1.7654e-05 - accuracy: 2.3324e-04 - val_loss: 3.8624e-04 - val_accuracy: 0.0000e+00\n",
            "Epoch 108/200\n",
            "77/77 [==============================] - 1s 8ms/step - loss: 2.3521e-05 - accuracy: 5.9529e-04 - val_loss: 5.2659e-04 - val_accuracy: 0.0000e+00\n",
            "Epoch 109/200\n",
            "77/77 [==============================] - 1s 8ms/step - loss: 2.2925e-05 - accuracy: 1.3321e-04 - val_loss: 3.2707e-04 - val_accuracy: 0.0000e+00\n",
            "Epoch 110/200\n",
            "77/77 [==============================] - 1s 9ms/step - loss: 1.7144e-05 - accuracy: 2.1486e-04 - val_loss: 4.1411e-04 - val_accuracy: 0.0000e+00\n",
            "Epoch 111/200\n",
            "77/77 [==============================] - 1s 8ms/step - loss: 1.8428e-05 - accuracy: 2.3324e-04 - val_loss: 3.3342e-04 - val_accuracy: 0.0000e+00\n",
            "Epoch 112/200\n",
            "77/77 [==============================] - 1s 9ms/step - loss: 1.7822e-05 - accuracy: 8.4117e-05 - val_loss: 3.9103e-04 - val_accuracy: 0.0000e+00\n",
            "Epoch 113/200\n",
            "77/77 [==============================] - 1s 8ms/step - loss: 2.0516e-05 - accuracy: 1.6402e-04 - val_loss: 3.9821e-04 - val_accuracy: 0.0000e+00\n",
            "Epoch 114/200\n",
            "77/77 [==============================] - 1s 9ms/step - loss: 1.7957e-05 - accuracy: 4.0416e-04 - val_loss: 3.1560e-04 - val_accuracy: 0.0000e+00\n",
            "Epoch 115/200\n",
            "77/77 [==============================] - 1s 8ms/step - loss: 2.3826e-05 - accuracy: 4.4841e-04 - val_loss: 4.2182e-04 - val_accuracy: 0.0000e+00\n",
            "Epoch 116/200\n",
            "77/77 [==============================] - 1s 8ms/step - loss: 2.6217e-05 - accuracy: 2.2395e-04 - val_loss: 3.7425e-04 - val_accuracy: 0.0000e+00\n",
            "Epoch 117/200\n",
            "77/77 [==============================] - 1s 8ms/step - loss: 2.1205e-05 - accuracy: 2.5245e-04 - val_loss: 3.6171e-04 - val_accuracy: 0.0000e+00\n",
            "Epoch 118/200\n",
            "77/77 [==============================] - 1s 9ms/step - loss: 2.1086e-05 - accuracy: 2.2523e-05 - val_loss: 3.0888e-04 - val_accuracy: 0.0000e+00\n",
            "Epoch 119/200\n",
            "77/77 [==============================] - 1s 9ms/step - loss: 1.6156e-05 - accuracy: 6.4690e-05 - val_loss: 2.6785e-04 - val_accuracy: 0.0000e+00\n",
            "Epoch 120/200\n",
            "77/77 [==============================] - 1s 9ms/step - loss: 1.5234e-05 - accuracy: 4.0087e-05 - val_loss: 3.7305e-04 - val_accuracy: 0.0000e+00\n",
            "Epoch 121/200\n",
            "77/77 [==============================] - 1s 9ms/step - loss: 2.0504e-05 - accuracy: 0.0010 - val_loss: 4.4128e-04 - val_accuracy: 0.0000e+00\n",
            "Epoch 122/200\n",
            "77/77 [==============================] - 1s 8ms/step - loss: 2.4808e-05 - accuracy: 1.7209e-04 - val_loss: 4.8475e-04 - val_accuracy: 0.0000e+00\n",
            "Epoch 123/200\n",
            "77/77 [==============================] - 1s 9ms/step - loss: 1.9460e-05 - accuracy: 5.1557e-04 - val_loss: 4.4855e-04 - val_accuracy: 0.0000e+00\n",
            "Epoch 124/200\n",
            "77/77 [==============================] - 1s 8ms/step - loss: 1.9634e-05 - accuracy: 8.4117e-05 - val_loss: 4.1910e-04 - val_accuracy: 0.0000e+00\n",
            "Epoch 125/200\n",
            "77/77 [==============================] - 1s 8ms/step - loss: 1.9557e-05 - accuracy: 6.4690e-05 - val_loss: 3.8659e-04 - val_accuracy: 0.0000e+00\n",
            "Epoch 126/200\n",
            "77/77 [==============================] - 1s 8ms/step - loss: 2.0251e-05 - accuracy: 2.2395e-04 - val_loss: 3.5063e-04 - val_accuracy: 0.0000e+00\n",
            "Epoch 127/200\n",
            "77/77 [==============================] - 1s 9ms/step - loss: 1.9255e-05 - accuracy: 1.9723e-04 - val_loss: 3.0643e-04 - val_accuracy: 0.0000e+00\n",
            "Epoch 128/200\n",
            "77/77 [==============================] - 1s 8ms/step - loss: 2.0665e-05 - accuracy: 1.2584e-04 - val_loss: 3.4686e-04 - val_accuracy: 0.0000e+00\n",
            "Epoch 129/200\n",
            "77/77 [==============================] - 1s 9ms/step - loss: 1.9921e-05 - accuracy: 2.8298e-05 - val_loss: 3.3287e-04 - val_accuracy: 0.0000e+00\n",
            "Epoch 130/200\n",
            "77/77 [==============================] - 1s 8ms/step - loss: 1.9650e-05 - accuracy: 0.0010 - val_loss: 5.3701e-04 - val_accuracy: 0.0000e+00\n",
            "Epoch 131/200\n",
            "77/77 [==============================] - 1s 8ms/step - loss: 2.2730e-05 - accuracy: 1.8868e-04 - val_loss: 2.9721e-04 - val_accuracy: 0.0000e+00\n",
            "Epoch 132/200\n",
            "77/77 [==============================] - 1s 8ms/step - loss: 2.0860e-05 - accuracy: 1.4834e-04 - val_loss: 3.5603e-04 - val_accuracy: 0.0000e+00\n",
            "Epoch 133/200\n",
            "77/77 [==============================] - 1s 8ms/step - loss: 1.8094e-05 - accuracy: 5.5358e-04 - val_loss: 2.6784e-04 - val_accuracy: 0.0000e+00\n",
            "Epoch 134/200\n",
            "77/77 [==============================] - 1s 9ms/step - loss: 2.6551e-05 - accuracy: 2.2395e-04 - val_loss: 3.9628e-04 - val_accuracy: 0.0000e+00\n",
            "Epoch 135/200\n",
            "77/77 [==============================] - 1s 9ms/step - loss: 1.6728e-05 - accuracy: 3.1587e-04 - val_loss: 4.7386e-04 - val_accuracy: 0.0000e+00\n",
            "Epoch 136/200\n",
            "77/77 [==============================] - 1s 8ms/step - loss: 2.2119e-05 - accuracy: 7.2186e-04 - val_loss: 3.9280e-04 - val_accuracy: 0.0000e+00\n",
            "Epoch 137/200\n",
            "77/77 [==============================] - 1s 9ms/step - loss: 2.0468e-05 - accuracy: 0.0013 - val_loss: 2.8876e-04 - val_accuracy: 0.0000e+00\n",
            "Epoch 138/200\n",
            "77/77 [==============================] - 1s 9ms/step - loss: 1.9026e-05 - accuracy: 5.5358e-04 - val_loss: 4.4497e-04 - val_accuracy: 0.0000e+00\n",
            "Epoch 139/200\n",
            "77/77 [==============================] - 1s 8ms/step - loss: 1.7869e-05 - accuracy: 1.8030e-04 - val_loss: 3.7112e-04 - val_accuracy: 0.0000e+00\n",
            "Epoch 140/200\n",
            "77/77 [==============================] - 1s 8ms/step - loss: 2.2238e-05 - accuracy: 0.0011 - val_loss: 3.6525e-04 - val_accuracy: 0.0000e+00\n",
            "Epoch 141/200\n",
            "77/77 [==============================] - 1s 9ms/step - loss: 1.9001e-05 - accuracy: 0.0011 - val_loss: 3.4928e-04 - val_accuracy: 0.0000e+00\n",
            "Epoch 142/200\n",
            "77/77 [==============================] - 1s 9ms/step - loss: 1.9109e-05 - accuracy: 3.6407e-04 - val_loss: 3.9201e-04 - val_accuracy: 0.0000e+00\n",
            "Epoch 143/200\n",
            "77/77 [==============================] - 1s 9ms/step - loss: 1.8678e-05 - accuracy: 2.1486e-04 - val_loss: 4.1184e-04 - val_accuracy: 0.0000e+00\n",
            "Epoch 144/200\n",
            "77/77 [==============================] - 1s 9ms/step - loss: 1.7519e-05 - accuracy: 2.8298e-05 - val_loss: 3.6687e-04 - val_accuracy: 0.0000e+00\n",
            "Epoch 145/200\n",
            "77/77 [==============================] - 1s 8ms/step - loss: 2.3234e-05 - accuracy: 5.1557e-04 - val_loss: 4.1873e-04 - val_accuracy: 0.0000e+00\n",
            "Epoch 146/200\n",
            "77/77 [==============================] - 1s 8ms/step - loss: 2.3027e-05 - accuracy: 8.2088e-04 - val_loss: 4.1255e-04 - val_accuracy: 0.0000e+00\n",
            "Epoch 147/200\n",
            "77/77 [==============================] - 1s 8ms/step - loss: 2.5119e-05 - accuracy: 1.4071e-04 - val_loss: 3.9307e-04 - val_accuracy: 0.0000e+00\n",
            "Epoch 148/200\n",
            "77/77 [==============================] - 1s 8ms/step - loss: 2.1911e-05 - accuracy: 1.6402e-04 - val_loss: 2.6535e-04 - val_accuracy: 0.0000e+00\n",
            "Epoch 149/200\n",
            "77/77 [==============================] - 1s 8ms/step - loss: 1.9684e-05 - accuracy: 4.1841e-04 - val_loss: 3.3289e-04 - val_accuracy: 0.0000e+00\n",
            "Epoch 150/200\n",
            "77/77 [==============================] - 1s 9ms/step - loss: 2.0184e-05 - accuracy: 1.8030e-04 - val_loss: 2.4393e-04 - val_accuracy: 0.0000e+00\n",
            "Epoch 151/200\n",
            "77/77 [==============================] - 1s 8ms/step - loss: 2.4529e-05 - accuracy: 0.0021 - val_loss: 3.0170e-04 - val_accuracy: 0.0000e+00\n",
            "Epoch 152/200\n",
            "77/77 [==============================] - 1s 8ms/step - loss: 2.3302e-05 - accuracy: 4.9776e-04 - val_loss: 3.2534e-04 - val_accuracy: 0.0000e+00\n",
            "Epoch 153/200\n",
            "77/77 [==============================] - 1s 8ms/step - loss: 2.0409e-05 - accuracy: 7.1068e-05 - val_loss: 4.3157e-04 - val_accuracy: 0.0000e+00\n",
            "Epoch 154/200\n",
            "77/77 [==============================] - 1s 9ms/step - loss: 2.6890e-05 - accuracy: 8.5973e-04 - val_loss: 4.3770e-04 - val_accuracy: 0.0000e+00\n",
            "Epoch 155/200\n",
            "77/77 [==============================] - 1s 9ms/step - loss: 2.6068e-05 - accuracy: 1.1148e-04 - val_loss: 4.0171e-04 - val_accuracy: 0.0000e+00\n",
            "Epoch 156/200\n",
            "77/77 [==============================] - 1s 8ms/step - loss: 1.8246e-05 - accuracy: 2.1486e-04 - val_loss: 3.5195e-04 - val_accuracy: 0.0000e+00\n",
            "Epoch 157/200\n",
            "77/77 [==============================] - 1s 9ms/step - loss: 2.2181e-05 - accuracy: 2.5245e-04 - val_loss: 3.7726e-04 - val_accuracy: 0.0000e+00\n",
            "Epoch 158/200\n",
            "77/77 [==============================] - 1s 9ms/step - loss: 1.9682e-05 - accuracy: 1.6825e-05 - val_loss: 3.9369e-04 - val_accuracy: 0.0000e+00\n",
            "Epoch 159/200\n",
            "77/77 [==============================] - 1s 8ms/step - loss: 2.5089e-05 - accuracy: 6.4690e-05 - val_loss: 4.3650e-04 - val_accuracy: 0.0000e+00\n",
            "Epoch 160/200\n",
            "77/77 [==============================] - 1s 8ms/step - loss: 1.8413e-05 - accuracy: 3.3929e-04 - val_loss: 4.0091e-04 - val_accuracy: 0.0000e+00\n",
            "Epoch 161/200\n",
            "77/77 [==============================] - 1s 9ms/step - loss: 1.9817e-05 - accuracy: 0.0015 - val_loss: 4.1052e-04 - val_accuracy: 0.0000e+00\n",
            "Epoch 162/200\n",
            "77/77 [==============================] - 1s 8ms/step - loss: 2.7711e-05 - accuracy: 0.0013 - val_loss: 3.8390e-04 - val_accuracy: 0.0000e+00\n",
            "Epoch 163/200\n",
            "77/77 [==============================] - 1s 8ms/step - loss: 2.0361e-05 - accuracy: 9.0795e-05 - val_loss: 2.9911e-04 - val_accuracy: 0.0000e+00\n",
            "Epoch 164/200\n",
            "77/77 [==============================] - 1s 9ms/step - loss: 2.5574e-05 - accuracy: 0.0010 - val_loss: 3.9321e-04 - val_accuracy: 0.0000e+00\n",
            "Epoch 165/200\n",
            "77/77 [==============================] - 1s 9ms/step - loss: 1.6901e-05 - accuracy: 5.5358e-04 - val_loss: 3.5382e-04 - val_accuracy: 0.0000e+00\n",
            "Epoch 166/200\n",
            "77/77 [==============================] - 1s 9ms/step - loss: 2.1446e-05 - accuracy: 2.2395e-04 - val_loss: 4.0394e-04 - val_accuracy: 0.0000e+00\n",
            "Epoch 167/200\n",
            "77/77 [==============================] - 1s 9ms/step - loss: 1.8871e-05 - accuracy: 2.7256e-04 - val_loss: 4.1525e-04 - val_accuracy: 0.0000e+00\n",
            "Epoch 168/200\n",
            "77/77 [==============================] - 1s 8ms/step - loss: 1.7395e-05 - accuracy: 3.9038e-04 - val_loss: 3.4370e-04 - val_accuracy: 0.0000e+00\n",
            "Epoch 169/200\n",
            "77/77 [==============================] - 1s 9ms/step - loss: 2.0810e-05 - accuracy: 0.0015 - val_loss: 3.3048e-04 - val_accuracy: 0.0000e+00\n",
            "Epoch 170/200\n",
            "77/77 [==============================] - 1s 8ms/step - loss: 2.4535e-05 - accuracy: 8.5973e-04 - val_loss: 3.8254e-04 - val_accuracy: 0.0000e+00\n",
            "Epoch 171/200\n",
            "77/77 [==============================] - 1s 8ms/step - loss: 1.6860e-05 - accuracy: 1.2584e-04 - val_loss: 3.8134e-04 - val_accuracy: 0.0000e+00\n",
            "Epoch 172/200\n",
            "77/77 [==============================] - 1s 9ms/step - loss: 1.9290e-05 - accuracy: 2.6239e-04 - val_loss: 4.0236e-04 - val_accuracy: 0.0000e+00\n",
            "Epoch 173/200\n",
            "77/77 [==============================] - 1s 9ms/step - loss: 2.2210e-05 - accuracy: 0.0017 - val_loss: 3.2765e-04 - val_accuracy: 0.0000e+00\n",
            "Epoch 174/200\n",
            "77/77 [==============================] - 1s 8ms/step - loss: 1.8305e-05 - accuracy: 2.3324e-04 - val_loss: 4.8333e-04 - val_accuracy: 0.0000e+00\n",
            "Epoch 175/200\n",
            "77/77 [==============================] - 1s 8ms/step - loss: 1.6444e-05 - accuracy: 1.0447e-04 - val_loss: 4.7738e-04 - val_accuracy: 0.0000e+00\n",
            "Epoch 176/200\n",
            "77/77 [==============================] - 1s 9ms/step - loss: 2.1835e-05 - accuracy: 4.4841e-04 - val_loss: 4.4922e-04 - val_accuracy: 0.0000e+00\n",
            "Epoch 177/200\n",
            "77/77 [==============================] - 1s 9ms/step - loss: 1.6869e-05 - accuracy: 3.2742e-04 - val_loss: 3.9051e-04 - val_accuracy: 0.0000e+00\n",
            "Epoch 178/200\n",
            "77/77 [==============================] - 1s 9ms/step - loss: 2.1142e-05 - accuracy: 2.3324e-04 - val_loss: 3.4265e-04 - val_accuracy: 0.0000e+00\n",
            "Epoch 179/200\n",
            "77/77 [==============================] - 1s 9ms/step - loss: 2.3516e-05 - accuracy: 1.0447e-04 - val_loss: 3.2034e-04 - val_accuracy: 0.0000e+00\n",
            "Epoch 180/200\n",
            "77/77 [==============================] - 1s 8ms/step - loss: 2.0872e-05 - accuracy: 9.7578e-05 - val_loss: 5.0842e-04 - val_accuracy: 0.0000e+00\n",
            "Epoch 181/200\n",
            "77/77 [==============================] - 1s 9ms/step - loss: 1.8688e-05 - accuracy: 2.0595e-04 - val_loss: 3.6441e-04 - val_accuracy: 0.0000e+00\n",
            "Epoch 182/200\n",
            "77/77 [==============================] - 1s 8ms/step - loss: 1.8970e-05 - accuracy: 0.0011 - val_loss: 3.7116e-04 - val_accuracy: 0.0000e+00\n",
            "Epoch 183/200\n",
            "77/77 [==============================] - 1s 9ms/step - loss: 2.4177e-05 - accuracy: 2.8298e-04 - val_loss: 3.5188e-04 - val_accuracy: 0.0000e+00\n",
            "Epoch 184/200\n",
            "77/77 [==============================] - 1s 9ms/step - loss: 2.2258e-05 - accuracy: 3.2742e-04 - val_loss: 4.2467e-04 - val_accuracy: 0.0000e+00\n",
            "Epoch 185/200\n",
            "77/77 [==============================] - 1s 9ms/step - loss: 2.0227e-05 - accuracy: 0.0011 - val_loss: 5.1537e-04 - val_accuracy: 0.0000e+00\n",
            "Epoch 186/200\n",
            "77/77 [==============================] - 1s 8ms/step - loss: 1.8612e-05 - accuracy: 1.4071e-04 - val_loss: 3.6538e-04 - val_accuracy: 0.0000e+00\n",
            "Epoch 187/200\n",
            "77/77 [==============================] - 1s 9ms/step - loss: 1.8660e-05 - accuracy: 2.8298e-05 - val_loss: 3.3004e-04 - val_accuracy: 0.0000e+00\n",
            "Epoch 188/200\n",
            "77/77 [==============================] - 1s 9ms/step - loss: 2.1624e-05 - accuracy: 3.2742e-04 - val_loss: 3.7609e-04 - val_accuracy: 0.0000e+00\n",
            "Epoch 189/200\n",
            "77/77 [==============================] - 1s 8ms/step - loss: 2.2182e-05 - accuracy: 2.9367e-04 - val_loss: 3.8392e-04 - val_accuracy: 0.0000e+00\n",
            "Epoch 190/200\n",
            "77/77 [==============================] - 1s 9ms/step - loss: 2.2072e-05 - accuracy: 6.1779e-04 - val_loss: 3.3787e-04 - val_accuracy: 0.0000e+00\n",
            "Epoch 191/200\n",
            "77/77 [==============================] - 1s 8ms/step - loss: 1.8130e-05 - accuracy: 4.1841e-04 - val_loss: 3.7937e-04 - val_accuracy: 0.0000e+00\n",
            "Epoch 192/200\n",
            "77/77 [==============================] - 1s 9ms/step - loss: 2.6140e-05 - accuracy: 1.2584e-04 - val_loss: 3.7060e-04 - val_accuracy: 0.0000e+00\n",
            "Epoch 193/200\n",
            "77/77 [==============================] - 1s 8ms/step - loss: 2.0496e-05 - accuracy: 8.4117e-05 - val_loss: 5.8193e-04 - val_accuracy: 0.0000e+00\n",
            "Epoch 194/200\n",
            "77/77 [==============================] - 1s 8ms/step - loss: 2.1838e-05 - accuracy: 4.6423e-04 - val_loss: 4.4979e-04 - val_accuracy: 0.0000e+00\n",
            "Epoch 195/200\n",
            "77/77 [==============================] - 1s 9ms/step - loss: 2.0562e-05 - accuracy: 7.5239e-04 - val_loss: 5.9417e-04 - val_accuracy: 0.0000e+00\n",
            "Epoch 196/200\n",
            "77/77 [==============================] - 1s 9ms/step - loss: 1.8682e-05 - accuracy: 1.8030e-04 - val_loss: 4.6199e-04 - val_accuracy: 0.0000e+00\n",
            "Epoch 197/200\n",
            "77/77 [==============================] - 1s 8ms/step - loss: 1.8043e-05 - accuracy: 6.4153e-04 - val_loss: 4.6651e-04 - val_accuracy: 0.0000e+00\n",
            "Epoch 198/200\n",
            "77/77 [==============================] - 1s 9ms/step - loss: 2.3049e-05 - accuracy: 1.9723e-04 - val_loss: 3.9909e-04 - val_accuracy: 0.0000e+00\n",
            "Epoch 199/200\n",
            "77/77 [==============================] - 1s 9ms/step - loss: 1.6448e-05 - accuracy: 4.6423e-04 - val_loss: 3.5708e-04 - val_accuracy: 0.0000e+00\n",
            "Epoch 200/200\n",
            "77/77 [==============================] - 1s 8ms/step - loss: 2.2619e-05 - accuracy: 2.4274e-04 - val_loss: 3.5750e-04 - val_accuracy: 0.0000e+00\n"
          ],
          "name": "stdout"
        }
      ]
    },
    {
      "cell_type": "code",
      "metadata": {
        "colab": {
          "base_uri": "https://localhost:8080/"
        },
        "id": "VPwSTGZ9Roxi",
        "outputId": "c0c01bac-cb1d-47e6-d651-7469b1a77382"
      },
      "source": [
        "model.evaluate(xtest,ytest)"
      ],
      "execution_count": null,
      "outputs": [
        {
          "output_type": "stream",
          "text": [
            "18/18 [==============================] - 0s 4ms/step - loss: 3.5750e-04 - accuracy: 0.0000e+00\n"
          ],
          "name": "stdout"
        },
        {
          "output_type": "execute_result",
          "data": {
            "text/plain": [
              "[0.00035749940434470773, 0.0]"
            ]
          },
          "metadata": {
            "tags": []
          },
          "execution_count": 158
        }
      ]
    },
    {
      "cell_type": "code",
      "metadata": {
        "colab": {
          "base_uri": "https://localhost:8080/",
          "height": 573
        },
        "id": "coULGYb6SF6b",
        "outputId": "9f230393-7a47-4112-b4cf-79860298b760"
      },
      "source": [
        "plt.plot(hist.history['loss'])\n",
        "plt.plot(hist.history['val_loss'])\n",
        "plt.title('model loss')\n",
        "plt.ylabel('loss')\n",
        "plt.xlabel('epoch')\n",
        "plt.legend(['train', 'test'], loc='upper right')\n",
        "plt.show()\n",
        "\n",
        "plt.plot(hist.history['accuracy'])\n",
        "plt.plot(hist.history['val_accuracy'])\n",
        "plt.title('model accuracy')\n",
        "plt.ylabel('accuracy')\n",
        "plt.xlabel('epoch')\n",
        "plt.legend(['train', 'test'], loc='upper right')\n",
        "plt.show()\n"
      ],
      "execution_count": null,
      "outputs": [
        {
          "output_type": "display_data",
          "data": {
            "image/png": "[encoded data removed]",
            "text/plain": [
              "<Figure size 432x288 with 1 Axes>"
            ]
          },
          "metadata": {
            "tags": [],
            "needs_background": "light"
          }
        },
        {
          "output_type": "display_data",
          "data": {
            "image/png": "[encoded data removed]",
            "text/plain": [
              "<Figure size 432x288 with 1 Axes>"
            ]
          },
          "metadata": {
            "tags": [],
            "needs_background": "light"
          }
        }
      ]
    },
    {
      "cell_type": "code",
      "metadata": {
        "colab": {
          "base_uri": "https://localhost:8080/",
          "height": 302
        },
        "id": "ebxRYBBGZi9R",
        "outputId": "15e7a622-3001-4b2d-bce6-8e69925cceea"
      },
      "source": [
        "ypred=model.predict(xtest)\n",
        "plt.plot(ytest,label='actual value')\n",
        "plt.plot(ypred,label='prediction')\n",
        "plt.legend()\n",
        "plt.show()"
      ],
      "execution_count": null,
      "outputs": [
        {
          "output_type": "stream",
          "text": [
            "WARNING:tensorflow:Model was constructed with shape (None, 20, 1) for input KerasTensor(type_spec=TensorSpec(shape=(None, 20, 1), dtype=tf.float32, name='lstm_16_input'), name='lstm_16_input', description=\"created by layer 'lstm_16_input'\"), but it was called on an input with incompatible shape (None, 19, 1).\n"
          ],
          "name": "stdout"
        },
        {
          "output_type": "display_data",
          "data": {
            "image/png": "[encoded data removed]",
            "text/plain": [
              "<Figure size 432x288 with 1 Axes>"
            ]
          },
          "metadata": {
            "tags": [],
            "needs_background": "light"
          }
        }
      ]
    },
    {
      "cell_type": "code",
      "metadata": {
        "id": "6um1OaO2Vt27"
      },
      "source": [
        ""
      ],
      "execution_count": null,
      "outputs": []
    }
  ]
}